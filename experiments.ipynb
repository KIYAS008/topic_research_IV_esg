{
 "cells": [
  {
   "cell_type": "markdown",
   "metadata": {},
   "source": [
    "## Experiments:\n",
    "1. Sectoral Dependency\n",
    "2. Financial Profile Dependency"
   ]
  },
  {
   "cell_type": "code",
   "execution_count": 6,
   "metadata": {},
   "outputs": [],
   "source": [
    "import pandas as pd\n",
    "import config.utils as utils\n",
    "import numpy as np\n",
    "import xlsxwriter as xl\n",
    "\n",
    "eventD = utils.eventDate()\n",
    "dateSetting = [(0,0),(-1,1),(-3,3),(-5,5),(0,1),(0,3),(0,5)]"
   ]
  },
  {
   "cell_type": "code",
   "execution_count": 8,
   "metadata": {},
   "outputs": [],
   "source": [
    "def summary_csv():\n",
    "    \"\"\"\n",
    "    A templete to record down results\n",
    "    \"\"\"\n",
    "    # 23 rows and 20 columns\n",
    "    summary = pd.DataFrame(index = range(23), columns = range(14))\n",
    "    for i in range(2,23):\n",
    "        if i%3 == 0:\n",
    "            summary.loc[[i], 1] = 'S'\n",
    "        elif i%3 == 1:\n",
    "            summary.loc[[i], 1] = 'G'\n",
    "        else:\n",
    "            summary.loc[[i], 1] = 'E'\n",
    "        r = (i-2)//3\n",
    "        summary.loc[[i], 0] = str(dateSetting[r])\n",
    "\n",
    "    for i in range(2,14):\n",
    "        if i%3 == 0:\n",
    "            summary.loc[1, [i]] = 't-value'\n",
    "        elif i%3 == 1:\n",
    "            summary.loc[1, [i]] = 'p-value'\n",
    "        else:\n",
    "            summary.loc[1, [i]] = 'coef'\n",
    "        r = (i-2)//3\n",
    "        summary.loc[0, [i]] = eventD['date'][r]\n",
    "    return summary"
   ]
  },
  {
   "cell_type": "markdown",
   "metadata": {},
   "source": [
    "---"
   ]
  },
  {
   "cell_type": "markdown",
   "metadata": {},
   "source": [
    "### Industry Dependency"
   ]
  },
  {
   "cell_type": "code",
   "execution_count": null,
   "metadata": {},
   "outputs": [],
   "source": [
    "industry_dict = {\n",
    "    'Energy':50,\n",
    "    'Construction_Materials':51,\n",
    "    'Industrial':52,\n",
    "    'Consumer_ProdServ':53,\n",
    "    'Food_consumerGoods':54,\n",
    "    'Financial':55,\n",
    "    'Biotech':56,\n",
    "    'Technology':57,\n",
    "    'Utilities':59,\n",
    "    'Real_Estate':60,\n",
    "    'Education':63\n",
    "}"
   ]
  },
  {
   "cell_type": "code",
   "execution_count": 10,
   "metadata": {},
   "outputs": [],
   "source": [
    "# Sector experiments\n",
    "for industry in industry_dict.keys():\n",
    "    summary = summary_csv() \n",
    "    sumDummy = summary_csv() \n",
    "    interaction = summary_csv() \n",
    "\n",
    "    path = '/ESG/1020_journal/experiment_result/01_' + industry + '.csv'\n",
    "    for i, ED in enumerate(eventD['date']):\n",
    "        model = utils.EventStudy(ED)\n",
    "        esgSummary, dummySummary, interSummary = model.industryES_big(industry, normalize = False, exclude = False, pillar = True)\n",
    "        summary.loc[2:23, 3*i+2:3*i+4] = esgSummary.values\n",
    "        sumDummy.loc[2:23, 3*i+2:3*i+4] = dummySummary.values\n",
    "        interaction.loc[2:23, 3*i+2:3*i+4] = interSummary.values\n",
    "    finalSummary = [summary, sumDummy, interaction]\n",
    "    finalSummary = pd.concat(finalSummary)\n",
    "    finalSummary.to_csv(path)"
   ]
  },
  {
   "cell_type": "markdown",
   "metadata": {},
   "source": [
    "### Financial Profile Dependency"
   ]
  },
  {
   "cell_type": "code",
   "execution_count": 13,
   "metadata": {},
   "outputs": [],
   "source": [
    "control_var = ['log_makvalt','BMRatio','ROA','asset_growth','HHI']\n",
    "for control in control_var:\n",
    "    summary = summary_csv()\n",
    "    sumDummy = summary_csv()\n",
    "    interaction = summary_csv()\n",
    "    path = '/ESG/1020_journal/experiment_result/03_' + control + '.csv'\n",
    "    for i, ED in enumerate(eventD['date']):\n",
    "        model = utils.EventStudy(ED)\n",
    "        esgSummary, dummySummary, interSummary = model.controlES_inter(variable = control, exclude = False, extremeGroup = True, pillar = True)\n",
    "        summary.loc[2:23, 3*i+2:3*i+4] = esgSummary.values\n",
    "        sumDummy.loc[2:23, 3*i+2:3*i+4] = dummySummary.values\n",
    "        interaction.loc[2:23, 3*i+2:3*i+4] = interSummary.values\n",
    "    finalSummary = [summary, sumDummy, interaction]\n",
    "    finalSummary = pd.concat(finalSummary)\n",
    "    finalSummary.to_csv(path)"
   ]
  },
  {
   "cell_type": "markdown",
   "metadata": {},
   "source": [
    "---"
   ]
  },
  {
   "cell_type": "markdown",
   "metadata": {},
   "source": [
    "Summarize the experiments to a excel sheet."
   ]
  },
  {
   "cell_type": "code",
   "execution_count": 47,
   "metadata": {},
   "outputs": [],
   "source": [
    "\n",
    "experiment_list = ['01_Energy', '01_Construction_Materials', '01_Industrial', '01_Consumer_ProdServ',\n",
    "                    '01_Food_consumerGoods', '01_Financial', '01_Biotech', '01_Technology' ,\n",
    "                    '01_Utilities', '01_Real_Estate', '01_Education', '02_Automobile_Parts', '02_Freight_Logistics',\n",
    "                    '02_Passenger_Transportation', '02_Hotels_Entertainment', '02_Media', '02_Food_Bev_Tabacco',\n",
    "                    '03_log_makvalt','03_BMRatio','03_ROA','03_asset_growth', '03_HHI', '04_hhi_dummy']\n",
    "\n",
    "# Q3-Q1\n",
    "refinitiv_Q3Q1 = {\n",
    "    'E': 33,\n",
    "    'S': 32,\n",
    "    'G': 27\n",
    "}"
   ]
  },
  {
   "cell_type": "code",
   "execution_count": 48,
   "metadata": {},
   "outputs": [],
   "source": [
    "# normal or exclude\n",
    "path = '/ESG/1020_journal/experiment_result/'\n",
    "ESGQ3Q1 = refinitiv_Q3Q1\n",
    "\n",
    "\n",
    "# write to excel summary\n",
    "column = [4,7,10,13]\n",
    "sector_list = []\n",
    "profile_list = []\n",
    "for unit in experiment_list:\n",
    "    raw_file = pd.read_csv(path + unit+'.csv', index_col=0)\n",
    "    unit_info = []\n",
    "    for col in column:\n",
    "        for row in range(20):\n",
    "\n",
    "            triplet = [raw_file.iloc[row+2, col], raw_file.iloc[row+25, col], raw_file.iloc[row+48, col]]\n",
    "            if triplet[0][0] == '*' and triplet[1][0] == '*' and triplet[2][0] == '*':\n",
    "                pillar = raw_file.iloc[row+2, 1]\n",
    "                info_list = [raw_file.iloc[0, col], pillar, raw_file.iloc[row+2, 0]]\n",
    "                coef = float(raw_file.iloc[row+2, col-2])\n",
    "                inter = float(raw_file.iloc[row+48, col-2])\n",
    "                data_info = [coef, float(raw_file.iloc[row+25, col-2]), \n",
    "                            inter, ESGQ3Q1[pillar], ESGQ3Q1[pillar] * coef, \n",
    "                            (coef + inter) * ESGQ3Q1[pillar]]\n",
    "\n",
    "                unit_info.append(info_list + data_info)\n",
    "\n",
    "    if unit[1] != '3':\n",
    "        if unit_info:\n",
    "            sector_list.append([unit, 'pillar','window', 'coef','dummy','inter', 'Q3-Q1', 'CAR/subQ1', 'CAR/subQ3'])\n",
    "            for i in unit_info:\n",
    "                sector_list.append(i)\n",
    "    else:\n",
    "        if unit_info:\n",
    "            profile_list.append([unit, 'pillar','window', 'coef','dummy','inter', 'Q3-Q1', 'CAR/subQ1', 'CAR/subQ3'])\n",
    "            for i in unit_info:\n",
    "                profile_list.append(i)\n",
    "workbook = xl.Workbook('summary_hhi_industry.xlsx')\n",
    "sector_sht = workbook.add_worksheet()\n",
    "profile_sht = workbook.add_worksheet()\n",
    "\n",
    "for row_num, row_data in enumerate(sector_list):\n",
    "    for col_num, col_data in enumerate(row_data):\n",
    "        sector_sht.write(row_num, col_num, col_data)\n",
    "sector_sht.set_column('A:A', 28)\n",
    "sector_sht.set_column('D:F', 15)\n",
    "sector_sht.set_column('H:I', 28)\n",
    "\n",
    "\n",
    "for row_num, row_data in enumerate(profile_list):\n",
    "    for col_num, col_data in enumerate(row_data):\n",
    "        profile_sht.write(row_num, col_num, col_data)\n",
    "\n",
    "profile_sht.set_column('A:A', 28)\n",
    "profile_sht.set_column('D:F', 15)\n",
    "profile_sht.set_column('H:I', 28)\n",
    "\n",
    "\n",
    "workbook.close()\n"
   ]
  }
 ],
 "metadata": {
  "interpreter": {
   "hash": "2f7ea0c6fc7121228ffaf76bc7d7e000b3b3e8c394302f55120707a69de8cdcb"
  },
  "kernelspec": {
   "display_name": "Python 3.9.10 ('base')",
   "language": "python",
   "name": "python3"
  },
  "language_info": {
   "codemirror_mode": {
    "name": "ipython",
    "version": 3
   },
   "file_extension": ".py",
   "mimetype": "text/x-python",
   "name": "python",
   "nbconvert_exporter": "python",
   "pygments_lexer": "ipython3",
   "version": "3.9.10"
  },
  "orig_nbformat": 4
 },
 "nbformat": 4,
 "nbformat_minor": 2
}
